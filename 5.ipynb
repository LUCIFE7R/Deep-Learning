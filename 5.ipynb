{
 "cells": [
  {
   "cell_type": "markdown",
   "id": "4116eb33",
   "metadata": {},
   "source": [
    "<!-- Implement the Continuous Bag of Words (CBOW) Model. Stages can be: -->"
   ]
  },
  {
   "cell_type": "markdown",
   "id": "31058691",
   "metadata": {},
   "source": [
    "# Import Libraries "
   ]
  },
  {
   "cell_type": "code",
   "execution_count": 2,
   "id": "d8f1901d",
   "metadata": {},
   "outputs": [
    {
     "name": "stdout",
     "output_type": "stream",
     "text": [
      "WARNING:tensorflow:From E:\\Anaconda\\Lib\\site-packages\\keras\\src\\losses.py:2976: The name tf.losses.sparse_softmax_cross_entropy is deprecated. Please use tf.compat.v1.losses.sparse_softmax_cross_entropy instead.\n",
      "\n"
     ]
    }
   ],
   "source": [
    "import numpy as np\n",
    "import re\n",
    "import tensorflow as tf\n",
    "from tensorflow.keras.models import Sequential\n",
    "from tensorflow.keras.layers import Dense, Embedding, Lambda\n",
    "from tensorflow.keras.preprocessing.text import Tokenizer"
   ]
  },
  {
   "cell_type": "code",
   "execution_count": 3,
   "id": "42f16de4",
   "metadata": {},
   "outputs": [
    {
     "data": {
      "text/plain": [
       "'Deep learning (also known as deep structured learning) is part of a broader family of machine learning methods based on artificial neural networks with representation   learning. Learning can be supervised, semi-supervised or unsupervised. Deep-learning architectures such as deep neural networks, deep belief networks, deep reinforcement learning, recurrent neural networks, convolutional neural networks and Transformers have been applied to fields including computer vision, speech recognition, natural language processing, machine translation, bioinformatics, drug design, medical image analysis, climate science, material inspection and board game programs, where they have produced results comparable to and in some cases surpassing human expert performance.'"
      ]
     },
     "execution_count": 3,
     "metadata": {},
     "output_type": "execute_result"
    }
   ],
   "source": [
    "data = \"Deep learning (also known as deep structured learning) is part of a broader family of machine learning methods based on artificial neural networks with representation   learning. Learning can be supervised, semi-supervised or unsupervised. Deep-learning architectures such as deep neural networks, deep belief networks, deep reinforcement learning, recurrent neural networks, convolutional neural networks and Transformers have been applied to fields including computer vision, speech recognition, natural language processing, machine translation, bioinformatics, drug design, medical image analysis, climate science, material inspection and board game programs, where they have produced results comparable to and in some cases surpassing human expert performance.\"\n",
    "data\n",
    "\n"
   ]
  },
  {
   "cell_type": "markdown",
   "id": "a07551b1",
   "metadata": {},
   "source": [
    "# Split into sentences\n"
   ]
  },
  {
   "cell_type": "code",
   "execution_count": 4,
   "id": "e91d25bf",
   "metadata": {},
   "outputs": [],
   "source": [
    "sentences = data.split('.')\n",
    "sentences = [sentence for sentence in sentences if sentence.strip()]"
   ]
  },
  {
   "cell_type": "markdown",
   "id": "2d872d57",
   "metadata": {},
   "source": [
    "# Clean Data of Special Characters\n"
   ]
  },
  {
   "cell_type": "code",
   "execution_count": 5,
   "id": "0d79141a",
   "metadata": {},
   "outputs": [],
   "source": [
    "clean_sent = []\n",
    "for sentence in sentences:\n",
    "    sentence = re.sub('[^A-Za-z0-9]+', ' ', sentence)\n",
    "    sentence = re.sub(r'(?:^| )\\\\w (?:$| )', ' ', sentence).strip()\n",
    "    sentence = sentence.lower()\n",
    "    clean_sent.append(sentence)"
   ]
  },
  {
   "cell_type": "markdown",
   "id": "b4153f82",
   "metadata": {},
   "source": [
    "# Tokenization\n"
   ]
  },
  {
   "cell_type": "code",
   "execution_count": 6,
   "id": "674b4ff8",
   "metadata": {},
   "outputs": [],
   "source": [
    "tokenizer = Tokenizer()\n",
    "tokenizer.fit_on_texts(clean_sent)\n",
    "sequences = tokenizer.texts_to_sequences(clean_sent)"
   ]
  },
  {
   "cell_type": "markdown",
   "id": "da8c5067",
   "metadata": {},
   "source": [
    "# Create dictionaries for word lookup\n"
   ]
  },
  {
   "cell_type": "code",
   "execution_count": 7,
   "id": "3d2be483",
   "metadata": {},
   "outputs": [],
   "source": [
    "index_to_word = {}\n",
    "word_to_index = {}"
   ]
  },
  {
   "cell_type": "code",
   "execution_count": 8,
   "id": "fe9acdd1",
   "metadata": {},
   "outputs": [],
   "source": [
    "for i, sequence in enumerate(sequences):\n",
    "    word_in_sentence = clean_sent[i].split()\n",
    "    for j, value in enumerate(sequence):\n",
    "        index_to_word[value] = word_in_sentence[j]\n",
    "        word_to_index[word_in_sentence[j]] = value"
   ]
  },
  {
   "cell_type": "markdown",
   "id": "1464c11f",
   "metadata": {},
   "source": [
    "# Create dictionaries to map between word and integer IDs\n"
   ]
  },
  {
   "cell_type": "code",
   "execution_count": 9,
   "id": "bf5092dd",
   "metadata": {},
   "outputs": [],
   "source": [
    "vocab_size = len(tokenizer.word_index) + 1\n",
    "emb_size = 100 \n",
    "context_size = 2"
   ]
  },
  {
   "cell_type": "markdown",
   "id": "8d36f746",
   "metadata": {},
   "source": [
    "# Create contexts and targets for CBOW model\n"
   ]
  },
  {
   "cell_type": "code",
   "execution_count": 10,
   "id": "1f506e64",
   "metadata": {},
   "outputs": [],
   "source": [
    "contexts = []\n",
    "targets = []\n",
    "\n",
    "for sequence in sequences:\n",
    "    for i in range(1, len(sequence) - 1):\n",
    "        if i - context_size >= 0 and i + context_size < len(sequence):\n",
    "            target = sequence[i]\n",
    "            context = [sequence[i - context_size], sequence[i + context_size]]\n",
    "            contexts.append(context)\n",
    "            targets.append(target)"
   ]
  },
  {
   "cell_type": "markdown",
   "id": "57d2ea0e",
   "metadata": {},
   "source": [
    "# Convert contexts and targets to NumPy arrays\n"
   ]
  },
  {
   "cell_type": "code",
   "execution_count": 11,
   "id": "b63503a4",
   "metadata": {},
   "outputs": [],
   "source": [
    "X = np.array(contexts)\n",
    "Y = np.array(targets)"
   ]
  },
  {
   "cell_type": "markdown",
   "id": "78bf4695",
   "metadata": {},
   "source": [
    "# Define the CBOW model architecture\n"
   ]
  },
  {
   "cell_type": "code",
   "execution_count": 12,
   "id": "2c1ce1bb",
   "metadata": {},
   "outputs": [
    {
     "name": "stdout",
     "output_type": "stream",
     "text": [
      "WARNING:tensorflow:From E:\\Anaconda\\Lib\\site-packages\\keras\\src\\backend.py:873: The name tf.get_default_graph is deprecated. Please use tf.compat.v1.get_default_graph instead.\n",
      "\n"
     ]
    }
   ],
   "source": [
    "model = Sequential([\n",
    "    Embedding(input_dim=vocab_size, output_dim=emb_size),  # Removed input_length\n",
    "    Lambda(lambda x: tf.reduce_mean(x, axis=1)),\n",
    "    Dense(256, activation='relu'),\n",
    "    Dense(vocab_size, activation='softmax')\n",
    "])"
   ]
  },
  {
   "cell_type": "markdown",
   "id": "b15b5084",
   "metadata": {},
   "source": [
    "# Compile the model\n"
   ]
  },
  {
   "cell_type": "code",
   "execution_count": 13,
   "id": "d9e2936b",
   "metadata": {},
   "outputs": [
    {
     "name": "stdout",
     "output_type": "stream",
     "text": [
      "WARNING:tensorflow:From E:\\Anaconda\\Lib\\site-packages\\keras\\src\\optimizers\\__init__.py:309: The name tf.train.Optimizer is deprecated. Please use tf.compat.v1.train.Optimizer instead.\n",
      "\n"
     ]
    }
   ],
   "source": [
    "model.compile(loss='sparse_categorical_crossentropy', optimizer='adam', metrics=['accuracy'])\n"
   ]
  },
  {
   "cell_type": "markdown",
   "id": "4997326f",
   "metadata": {},
   "source": [
    "# Train the model\n"
   ]
  },
  {
   "cell_type": "code",
   "execution_count": 14,
   "id": "4c51fe37",
   "metadata": {},
   "outputs": [
    {
     "name": "stdout",
     "output_type": "stream",
     "text": [
      "Epoch 1/100\n",
      "WARNING:tensorflow:From E:\\Anaconda\\Lib\\site-packages\\keras\\src\\utils\\tf_utils.py:492: The name tf.ragged.RaggedTensorValue is deprecated. Please use tf.compat.v1.ragged.RaggedTensorValue instead.\n",
      "\n",
      "WARNING:tensorflow:From E:\\Anaconda\\Lib\\site-packages\\keras\\src\\engine\\base_layer_utils.py:384: The name tf.executing_eagerly_outside_functions is deprecated. Please use tf.compat.v1.executing_eagerly_outside_functions instead.\n",
      "\n",
      "3/3 [==============================] - 1s 5ms/step - loss: 4.3148 - accuracy: 0.0227\n",
      "Epoch 2/100\n",
      "3/3 [==============================] - 0s 6ms/step - loss: 4.2952 - accuracy: 0.1705\n",
      "Epoch 3/100\n",
      "3/3 [==============================] - 0s 7ms/step - loss: 4.2781 - accuracy: 0.3182\n",
      "Epoch 4/100\n",
      "3/3 [==============================] - 0s 6ms/step - loss: 4.2601 - accuracy: 0.3523\n",
      "Epoch 5/100\n",
      "3/3 [==============================] - 0s 5ms/step - loss: 4.2406 - accuracy: 0.3864\n",
      "Epoch 6/100\n",
      "3/3 [==============================] - 0s 7ms/step - loss: 4.2197 - accuracy: 0.3977\n",
      "Epoch 7/100\n",
      "3/3 [==============================] - 0s 8ms/step - loss: 4.1957 - accuracy: 0.3750\n",
      "Epoch 8/100\n",
      "3/3 [==============================] - 0s 5ms/step - loss: 4.1682 - accuracy: 0.3750\n",
      "Epoch 9/100\n",
      "3/3 [==============================] - 0s 4ms/step - loss: 4.1386 - accuracy: 0.3750\n",
      "Epoch 10/100\n",
      "3/3 [==============================] - 0s 8ms/step - loss: 4.1046 - accuracy: 0.3636\n",
      "Epoch 11/100\n",
      "3/3 [==============================] - 0s 8ms/step - loss: 4.0660 - accuracy: 0.3523\n",
      "Epoch 12/100\n",
      "3/3 [==============================] - 0s 8ms/step - loss: 4.0221 - accuracy: 0.3523\n",
      "Epoch 13/100\n",
      "3/3 [==============================] - 0s 7ms/step - loss: 3.9722 - accuracy: 0.3295\n",
      "Epoch 14/100\n",
      "3/3 [==============================] - 0s 6ms/step - loss: 3.9194 - accuracy: 0.3295\n",
      "Epoch 15/100\n",
      "3/3 [==============================] - 0s 4ms/step - loss: 3.8552 - accuracy: 0.3409\n",
      "Epoch 16/100\n",
      "3/3 [==============================] - 0s 5ms/step - loss: 3.7868 - accuracy: 0.3523\n",
      "Epoch 17/100\n",
      "3/3 [==============================] - 0s 6ms/step - loss: 3.7138 - accuracy: 0.3523\n",
      "Epoch 18/100\n",
      "3/3 [==============================] - 0s 5ms/step - loss: 3.6314 - accuracy: 0.3523\n",
      "Epoch 19/100\n",
      "3/3 [==============================] - 0s 4ms/step - loss: 3.5440 - accuracy: 0.3295\n",
      "Epoch 20/100\n",
      "3/3 [==============================] - 0s 5ms/step - loss: 3.4489 - accuracy: 0.3295\n",
      "Epoch 21/100\n",
      "3/3 [==============================] - 0s 6ms/step - loss: 3.3514 - accuracy: 0.3409\n",
      "Epoch 22/100\n",
      "3/3 [==============================] - 0s 4ms/step - loss: 3.2521 - accuracy: 0.3523\n",
      "Epoch 23/100\n",
      "3/3 [==============================] - 0s 4ms/step - loss: 3.1482 - accuracy: 0.3523\n",
      "Epoch 24/100\n",
      "3/3 [==============================] - 0s 5ms/step - loss: 3.0474 - accuracy: 0.3636\n",
      "Epoch 25/100\n",
      "3/3 [==============================] - 0s 5ms/step - loss: 2.9447 - accuracy: 0.3864\n",
      "Epoch 26/100\n",
      "3/3 [==============================] - 0s 6ms/step - loss: 2.8406 - accuracy: 0.4205\n",
      "Epoch 27/100\n",
      "3/3 [==============================] - 0s 4ms/step - loss: 2.7343 - accuracy: 0.4659\n",
      "Epoch 28/100\n",
      "3/3 [==============================] - 0s 5ms/step - loss: 2.6264 - accuracy: 0.4659\n",
      "Epoch 29/100\n",
      "3/3 [==============================] - 0s 5ms/step - loss: 2.5144 - accuracy: 0.5000\n",
      "Epoch 30/100\n",
      "3/3 [==============================] - 0s 6ms/step - loss: 2.4000 - accuracy: 0.5000\n",
      "Epoch 31/100\n",
      "3/3 [==============================] - 0s 7ms/step - loss: 2.2863 - accuracy: 0.5341\n",
      "Epoch 32/100\n",
      "3/3 [==============================] - 0s 4ms/step - loss: 2.1656 - accuracy: 0.5682\n",
      "Epoch 33/100\n",
      "3/3 [==============================] - 0s 4ms/step - loss: 2.0477 - accuracy: 0.5909\n",
      "Epoch 34/100\n",
      "3/3 [==============================] - 0s 4ms/step - loss: 1.9299 - accuracy: 0.6250\n",
      "Epoch 35/100\n",
      "3/3 [==============================] - 0s 5ms/step - loss: 1.8097 - accuracy: 0.6591\n",
      "Epoch 36/100\n",
      "3/3 [==============================] - 0s 4ms/step - loss: 1.6946 - accuracy: 0.7159\n",
      "Epoch 37/100\n",
      "3/3 [==============================] - 0s 5ms/step - loss: 1.5775 - accuracy: 0.7500\n",
      "Epoch 38/100\n",
      "3/3 [==============================] - 0s 6ms/step - loss: 1.4625 - accuracy: 0.7727\n",
      "Epoch 39/100\n",
      "3/3 [==============================] - 0s 7ms/step - loss: 1.3543 - accuracy: 0.8182\n",
      "Epoch 40/100\n",
      "3/3 [==============================] - 0s 5ms/step - loss: 1.2503 - accuracy: 0.8295\n",
      "Epoch 41/100\n",
      "3/3 [==============================] - 0s 5ms/step - loss: 1.1478 - accuracy: 0.8523\n",
      "Epoch 42/100\n",
      "3/3 [==============================] - 0s 5ms/step - loss: 1.0523 - accuracy: 0.8864\n",
      "Epoch 43/100\n",
      "3/3 [==============================] - 0s 4ms/step - loss: 0.9650 - accuracy: 0.8864\n",
      "Epoch 44/100\n",
      "3/3 [==============================] - 0s 5ms/step - loss: 0.8824 - accuracy: 0.9205\n",
      "Epoch 45/100\n",
      "3/3 [==============================] - 0s 5ms/step - loss: 0.8068 - accuracy: 0.9205\n",
      "Epoch 46/100\n",
      "3/3 [==============================] - 0s 4ms/step - loss: 0.7365 - accuracy: 0.9205\n",
      "Epoch 47/100\n",
      "3/3 [==============================] - 0s 4ms/step - loss: 0.6763 - accuracy: 0.9318\n",
      "Epoch 48/100\n",
      "3/3 [==============================] - 0s 5ms/step - loss: 0.6215 - accuracy: 0.9205\n",
      "Epoch 49/100\n",
      "3/3 [==============================] - 0s 5ms/step - loss: 0.5719 - accuracy: 0.9432\n",
      "Epoch 50/100\n",
      "3/3 [==============================] - 0s 4ms/step - loss: 0.5294 - accuracy: 0.9545\n",
      "Epoch 51/100\n",
      "3/3 [==============================] - 0s 5ms/step - loss: 0.4906 - accuracy: 0.9545\n",
      "Epoch 52/100\n",
      "3/3 [==============================] - 0s 5ms/step - loss: 0.4563 - accuracy: 0.9432\n",
      "Epoch 53/100\n",
      "3/3 [==============================] - 0s 5ms/step - loss: 0.4250 - accuracy: 0.9432\n",
      "Epoch 54/100\n",
      "3/3 [==============================] - 0s 3ms/step - loss: 0.4000 - accuracy: 0.9432\n",
      "Epoch 55/100\n",
      "3/3 [==============================] - 0s 5ms/step - loss: 0.3756 - accuracy: 0.9545\n",
      "Epoch 56/100\n",
      "3/3 [==============================] - 0s 5ms/step - loss: 0.3530 - accuracy: 0.9545\n",
      "Epoch 57/100\n",
      "3/3 [==============================] - 0s 4ms/step - loss: 0.3337 - accuracy: 0.9545\n",
      "Epoch 58/100\n",
      "3/3 [==============================] - 0s 4ms/step - loss: 0.3149 - accuracy: 0.9545\n",
      "Epoch 59/100\n",
      "3/3 [==============================] - 0s 5ms/step - loss: 0.2991 - accuracy: 0.9545\n",
      "Epoch 60/100\n",
      "3/3 [==============================] - 0s 6ms/step - loss: 0.2850 - accuracy: 0.9545\n",
      "Epoch 61/100\n",
      "3/3 [==============================] - 0s 6ms/step - loss: 0.2712 - accuracy: 0.9545\n",
      "Epoch 62/100\n",
      "3/3 [==============================] - 0s 6ms/step - loss: 0.2593 - accuracy: 0.9545\n",
      "Epoch 63/100\n",
      "3/3 [==============================] - 0s 6ms/step - loss: 0.2479 - accuracy: 0.9545\n",
      "Epoch 64/100\n",
      "3/3 [==============================] - 0s 7ms/step - loss: 0.2382 - accuracy: 0.9545\n",
      "Epoch 65/100\n",
      "3/3 [==============================] - 0s 6ms/step - loss: 0.2287 - accuracy: 0.9545\n",
      "Epoch 66/100\n",
      "3/3 [==============================] - 0s 6ms/step - loss: 0.2201 - accuracy: 0.9432\n",
      "Epoch 67/100\n",
      "3/3 [==============================] - 0s 6ms/step - loss: 0.2125 - accuracy: 0.9545\n",
      "Epoch 68/100\n",
      "3/3 [==============================] - 0s 7ms/step - loss: 0.2058 - accuracy: 0.9432\n",
      "Epoch 69/100\n",
      "3/3 [==============================] - 0s 7ms/step - loss: 0.1983 - accuracy: 0.9545\n",
      "Epoch 70/100\n",
      "3/3 [==============================] - 0s 6ms/step - loss: 0.1922 - accuracy: 0.9545\n",
      "Epoch 71/100\n",
      "3/3 [==============================] - 0s 6ms/step - loss: 0.1870 - accuracy: 0.9545\n",
      "Epoch 72/100\n",
      "3/3 [==============================] - 0s 6ms/step - loss: 0.1809 - accuracy: 0.9545\n",
      "Epoch 73/100\n",
      "3/3 [==============================] - 0s 5ms/step - loss: 0.1769 - accuracy: 0.9545\n",
      "Epoch 74/100\n",
      "3/3 [==============================] - 0s 4ms/step - loss: 0.1719 - accuracy: 0.9545\n",
      "Epoch 75/100\n",
      "3/3 [==============================] - 0s 4ms/step - loss: 0.1673 - accuracy: 0.9545\n",
      "Epoch 76/100\n",
      "3/3 [==============================] - 0s 5ms/step - loss: 0.1629 - accuracy: 0.9545\n",
      "Epoch 77/100\n",
      "3/3 [==============================] - 0s 3ms/step - loss: 0.1596 - accuracy: 0.9545\n",
      "Epoch 78/100\n",
      "3/3 [==============================] - 0s 4ms/step - loss: 0.1562 - accuracy: 0.9432\n",
      "Epoch 79/100\n",
      "3/3 [==============================] - 0s 5ms/step - loss: 0.1518 - accuracy: 0.9545\n",
      "Epoch 80/100\n"
     ]
    },
    {
     "name": "stdout",
     "output_type": "stream",
     "text": [
      "3/3 [==============================] - 0s 3ms/step - loss: 0.1491 - accuracy: 0.9432\n",
      "Epoch 81/100\n",
      "3/3 [==============================] - 0s 4ms/step - loss: 0.1460 - accuracy: 0.9432\n",
      "Epoch 82/100\n",
      "3/3 [==============================] - 0s 6ms/step - loss: 0.1435 - accuracy: 0.9432\n",
      "Epoch 83/100\n",
      "3/3 [==============================] - 0s 5ms/step - loss: 0.1404 - accuracy: 0.9545\n",
      "Epoch 84/100\n",
      "3/3 [==============================] - 0s 3ms/step - loss: 0.1386 - accuracy: 0.9545\n",
      "Epoch 85/100\n",
      "3/3 [==============================] - 0s 3ms/step - loss: 0.1349 - accuracy: 0.9545\n",
      "Epoch 86/100\n",
      "3/3 [==============================] - 0s 4ms/step - loss: 0.1332 - accuracy: 0.9545\n",
      "Epoch 87/100\n",
      "3/3 [==============================] - 0s 4ms/step - loss: 0.1321 - accuracy: 0.9432\n",
      "Epoch 88/100\n",
      "3/3 [==============================] - 0s 4ms/step - loss: 0.1290 - accuracy: 0.9432\n",
      "Epoch 89/100\n",
      "3/3 [==============================] - 0s 4ms/step - loss: 0.1265 - accuracy: 0.9545\n",
      "Epoch 90/100\n",
      "3/3 [==============================] - 0s 5ms/step - loss: 0.1247 - accuracy: 0.9545\n",
      "Epoch 91/100\n",
      "3/3 [==============================] - 0s 4ms/step - loss: 0.1238 - accuracy: 0.9545\n",
      "Epoch 92/100\n",
      "3/3 [==============================] - 0s 4ms/step - loss: 0.1217 - accuracy: 0.9432\n",
      "Epoch 93/100\n",
      "3/3 [==============================] - 0s 4ms/step - loss: 0.1202 - accuracy: 0.9545\n",
      "Epoch 94/100\n",
      "3/3 [==============================] - 0s 5ms/step - loss: 0.1189 - accuracy: 0.9432\n",
      "Epoch 95/100\n",
      "3/3 [==============================] - 0s 5ms/step - loss: 0.1182 - accuracy: 0.9545\n",
      "Epoch 96/100\n",
      "3/3 [==============================] - 0s 5ms/step - loss: 0.1159 - accuracy: 0.9545\n",
      "Epoch 97/100\n",
      "3/3 [==============================] - 0s 5ms/step - loss: 0.1151 - accuracy: 0.9432\n",
      "Epoch 98/100\n",
      "3/3 [==============================] - 0s 4ms/step - loss: 0.1130 - accuracy: 0.9432\n",
      "Epoch 99/100\n",
      "3/3 [==============================] - 0s 5ms/step - loss: 0.1112 - accuracy: 0.9545\n",
      "Epoch 100/100\n",
      "3/3 [==============================] - 0s 4ms/step - loss: 0.1105 - accuracy: 0.9545\n"
     ]
    }
   ],
   "source": [
    "history = model.fit(X, Y, epochs=100, batch_size=32)\n"
   ]
  },
  {
   "cell_type": "code",
   "execution_count": 15,
   "id": "3881f4d5",
   "metadata": {},
   "outputs": [],
   "source": [
    "embeddings = model.get_weights()[0]"
   ]
  },
  {
   "cell_type": "code",
   "execution_count": 16,
   "id": "d94d62af",
   "metadata": {},
   "outputs": [],
   "source": [
    "from sklearn.decomposition import PCA\n",
    "pca = PCA(n_components=2)\n",
    "reduced_embeddings = pca.fit_transform(embeddings)"
   ]
  },
  {
   "cell_type": "code",
   "execution_count": 17,
   "id": "6da06dc9",
   "metadata": {},
   "outputs": [
    {
     "data": {
      "image/png": "[encoded data removed]",
      "text/plain": [
       "<Figure size 640x480 with 1 Axes>"
      ]
     },
     "metadata": {},
     "output_type": "display_data"
    }
   ],
   "source": [
    "import matplotlib.pyplot as plt\n",
    "plt.scatter(reduced_embeddings[:, 0], reduced_embeddings[:, 1])\n",
    "for i, word in enumerate(index_to_word.values()):\n",
    "    plt.annotate(word, (reduced_embeddings[i, 0], reduced_embeddings[i, 1]))\n",
    "plt.show()"
   ]
  },
  {
   "cell_type": "code",
   "execution_count": 18,
   "id": "4116f78c",
   "metadata": {},
   "outputs": [
    {
     "name": "stdout",
     "output_type": "stream",
     "text": [
      "1/1 [==============================] - 0s 144ms/step\n",
      "pred  ['known', 'as', 'structured', 'learning'] \n",
      "= neural \n",
      "\n",
      "\n",
      "1/1 [==============================] - 0s 35ms/step\n",
      "pred  ['transformers', 'have', 'applied', 'to'] \n",
      "= been \n",
      "\n",
      "\n",
      "1/1 [==============================] - 0s 32ms/step\n",
      "pred  ['where', 'they', 'produced', 'results'] \n",
      "= have \n",
      "\n",
      "\n",
      "1/1 [==============================] - 0s 32ms/step\n",
      "pred  ['cases', 'surpassing', 'expert', 'performance'] \n",
      "= human \n",
      "\n",
      "\n"
     ]
    }
   ],
   "source": [
    "test_sentences = [\n",
    "    \"known as structured learning\",\n",
    "    \"transformers have applied to\",\n",
    "    \"where they produced results\",\n",
    "    \"cases surpassing expert performance\"\n",
    "]\n",
    "\n",
    "for sent in test_sentences:\n",
    "    test_words = sent.split(\" \")\n",
    "    x_test = []\n",
    "    for i in test_words:\n",
    "        # Add a default index for unknown words (e.g., 0 for unknown)\n",
    "        word_index = word_to_index.get(i, 0)\n",
    "        x_test.append(word_index)\n",
    "    \n",
    "    # Convert the list to a NumPy array\n",
    "    x_test = np.array([x_test])\n",
    "\n",
    "    # Predict and display the result\n",
    "    pred = model.predict(x_test)\n",
    "    pred = np.argmax(pred[0])\n",
    "    print(\"pred \", test_words, \"\\n=\", index_to_word.get(pred), \"\\n\\n\")\n"
   ]
  },
  {
   "cell_type": "markdown",
   "id": "e394cbaa",
   "metadata": {},
   "source": [
    "# tp\n",
    "\"\"\"\n",
    "This code implements the Continuous Bag of Words (CBOW) model using TensorFlow and Keras. Here's a step-by-step explanation of the code:\n",
    "\n",
    "1. Import Libraries:\n",
    "NumPy: Used for handling arrays and matrix operations.\n",
    "re: Used for regular expressions to clean the text data.\n",
    "TensorFlow/Keras: For building and training the neural network model.\n",
    "Tokenizer: A Keras utility to convert text into sequences of integers.\n",
    "2. Data Preprocessing:\n",
    "The data is a string describing Docker and its use in modern DevOps practices. It is split into sentences.\n",
    "Each sentence is cleaned by removing special characters and converting the text to lowercase for consistency.\n",
    "3. Text Cleaning:\n",
    "Sentences are split using . (periods), and empty sentences are removed.\n",
    "Special characters are replaced with spaces using regular expressions, and each sentence is made lowercase.\n",
    "4. Tokenization:\n",
    "Tokenizer is used to create a vocabulary from the cleaned sentences and to convert the words into sequences of integers.\n",
    "The fit_on_texts function is used to build a word index, which assigns an integer to each unique word in the corpus.\n",
    "5. Creating Word Lookup Dictionaries:\n",
    "word_to_index: Maps each word to its corresponding index.\n",
    "index_to_word: Maps each index to the corresponding word.\n",
    "6. Context and Target Creation for CBOW:\n",
    "The CBOW model predicts a target word based on the context (words surrounding it).\n",
    "For each word in a sequence, a context is created from a window of words around it (defined by context_size).\n",
    "The context words and the target word are stored in contexts and targets, respectively.\n",
    "7. Model Architecture:\n",
    "The CBOW model is implemented using Keras' Sequential API.\n",
    "Embedding Layer: This layer maps each word to a dense vector (embedding). The size of the embedding vectors is defined by emb_size.\n",
    "Lambda Layer: The context (a set of words) is represented by the mean of their embedding vectors, which is computed using tf.reduce_mean.\n",
    "Dense Layers:\n",
    "The first Dense layer has 256 neurons and a ReLU activation function.\n",
    "The second Dense layer outputs a probability distribution over the vocabulary (softmax activation).\n",
    "The model's output is a prediction of the target word (given the context words).\n",
    "8. Model Compilation:\n",
    "The model is compiled with:\n",
    "Loss function: sparse_categorical_crossentropy is used since the target words are integers.\n",
    "Optimizer: adam, which adapts the learning rate during training.\n",
    "Metrics: accuracy, to measure the model's performance during training.\n",
    "9. Model Training:\n",
    "The model is trained on the contexts (input) and targets (output) for 100 epochs with a batch size of 32.\n",
    "10. Visualizing Word Embeddings:\n",
    "After training, the word embeddings (the weights of the Embedding layer) are reduced to two dimensions using PCA (Principal Component Analysis) to visualize them in a 2D space.\n",
    "The words are then plotted, showing their positions in this 2D space.\n",
    "11. Testing the Model:\n",
    "A list of test sentences (test_sentences) is defined.\n",
    "For each test sentence, the words are converted into their corresponding integer indices using the word_to_index dictionary.\n",
    "The model predicts the target word based on the given context and prints the result.\n",
    "12. Example Output:\n",
    "For each test sentence, the model predicts a word that might fit as the target word based on the context (the surrounding words).\n",
    "Issues and Possible Improvements:\n",
    "The current context is fixed at size 2 (context_size = 2), so only a small context around each word is used. This may limit the model's ability to learn broader relationships.\n",
    "The code doesn't handle edge cases well, such as sentences with fewer than context_size words.\n",
    "The word_to_index dictionary is used for converting words to their corresponding index, but words not seen during training are mapped to 0. This is a simplistic approach to handling unknown words.\n",
    "In summary, this code demonstrates how to implement the CBOW model for word embedding learning using Keras and TensorFlow, and it trains a model to predict the target word from its surrounding context.\n",
    "\"\"\""
   ]
  }
 ],
 "metadata": {
  "kernelspec": {
   "display_name": "Python 3 (ipykernel)",
   "language": "python",
   "name": "python3"
  },
  "language_info": {
   "codemirror_mode": {
    "name": "ipython",
    "version": 3
   },
   "file_extension": ".py",
   "mimetype": "text/x-python",
   "name": "python",
   "nbconvert_exporter": "python",
   "pygments_lexer": "ipython3",
   "version": "3.11.5"
  }
 },
 "nbformat": 4,
 "nbformat_minor": 5
}
